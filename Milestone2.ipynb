{
 "cells": [
  {
   "cell_type": "markdown",
   "metadata": {},
   "source": [
    "# Milestone 2"
   ]
  },
  {
   "cell_type": "markdown",
   "metadata": {},
   "source": [
    "## Intro\n",
    "The main goal of our project is to find what characteristics the different news sources look for in speakers, depending on the subject of discussion. To answer this question, we are going to work with three different datasets. Indeed, we will base our analyse on The Quotebank dataset that contains quotes of speakers from 2015 to 2020. The BBC dataset will help us to train a method to regroup the quotes according to the main topics. Finally, using the Wikidataset, we aim to categorize the speakers thanks to their age, gender and nationality. \n",
    "With all those informations, we will be able to perform a number of analysis to study the evolution across different news sources of the most represented speaker in the press."
   ]
  },
  {
   "cell_type": "markdown",
   "metadata": {},
   "source": [
    "## Dataset exploration\n",
    "A primary work consists of performing initial analyses and cleaning of the three datasets."
   ]
  },
  {
   "cell_type": "code",
   "execution_count": 1,
   "metadata": {},
   "outputs": [],
   "source": [
    "import pandas as pd\n",
    "import numpy as np\n",
    "import bz2\n",
    "import tqdm as tqdm \n",
    "from collections import Counter\n",
    "import matplotlib.pyplot as plt\n",
    "import seaborn as sns\n",
    "sns.set(style='whitegrid')\n",
    "import re\n",
    "import nltk\n",
    "from nltk.corpus import stopwords\n",
    "from nltk.tokenize import word_tokenize"
   ]
  },
  {
   "cell_type": "markdown",
   "metadata": {},
   "source": [
    "### 1. WikiDataset\n",
    "The Wikidataset will be used to find the age, gender and nationality of the speakers.\n",
    "\n",
    "\n",
    "The first aim is to explore the content of this dataset. We remove all the missing values, and we keep only the columns that we are interested in, that is : date of birth, nationality, gender and Id number of the speaker."
   ]
  },
  {
   "cell_type": "code",
   "execution_count": 20,
   "metadata": {},
   "outputs": [
    {
     "data": {
      "text/html": [
       "<div>\n",
       "<style scoped>\n",
       "    .dataframe tbody tr th:only-of-type {\n",
       "        vertical-align: middle;\n",
       "    }\n",
       "\n",
       "    .dataframe tbody tr th {\n",
       "        vertical-align: top;\n",
       "    }\n",
       "\n",
       "    .dataframe thead th {\n",
       "        text-align: right;\n",
       "    }\n",
       "</style>\n",
       "<table border=\"1\" class=\"dataframe\">\n",
       "  <thead>\n",
       "    <tr style=\"text-align: right;\">\n",
       "      <th></th>\n",
       "      <th>aliases</th>\n",
       "      <th>date_of_birth</th>\n",
       "      <th>nationality</th>\n",
       "      <th>gender</th>\n",
       "      <th>lastrevid</th>\n",
       "      <th>ethnic_group</th>\n",
       "      <th>US_congress_bio_ID</th>\n",
       "      <th>occupation</th>\n",
       "      <th>party</th>\n",
       "      <th>academic_degree</th>\n",
       "      <th>id</th>\n",
       "      <th>label</th>\n",
       "      <th>candidacy</th>\n",
       "      <th>type</th>\n",
       "      <th>religion</th>\n",
       "    </tr>\n",
       "  </thead>\n",
       "  <tbody>\n",
       "    <tr>\n",
       "      <th>0</th>\n",
       "      <td>[Washington, President Washington, G. Washingt...</td>\n",
       "      <td>[+1732-02-22T00:00:00Z]</td>\n",
       "      <td>[Q161885, Q30]</td>\n",
       "      <td>[Q6581097]</td>\n",
       "      <td>1395141751</td>\n",
       "      <td>None</td>\n",
       "      <td>W000178</td>\n",
       "      <td>[Q82955, Q189290, Q131512, Q1734662, Q294126, ...</td>\n",
       "      <td>[Q327591]</td>\n",
       "      <td>None</td>\n",
       "      <td>Q23</td>\n",
       "      <td>George Washington</td>\n",
       "      <td>[Q698073, Q697949]</td>\n",
       "      <td>item</td>\n",
       "      <td>[Q682443]</td>\n",
       "    </tr>\n",
       "    <tr>\n",
       "      <th>1</th>\n",
       "      <td>[Douglas Noel Adams, Douglas Noël Adams, Dougl...</td>\n",
       "      <td>[+1952-03-11T00:00:00Z]</td>\n",
       "      <td>[Q145]</td>\n",
       "      <td>[Q6581097]</td>\n",
       "      <td>1395737157</td>\n",
       "      <td>[Q7994501]</td>\n",
       "      <td>None</td>\n",
       "      <td>[Q214917, Q28389, Q6625963, Q4853732, Q1884422...</td>\n",
       "      <td>None</td>\n",
       "      <td>None</td>\n",
       "      <td>Q42</td>\n",
       "      <td>Douglas Adams</td>\n",
       "      <td>None</td>\n",
       "      <td>item</td>\n",
       "      <td>None</td>\n",
       "    </tr>\n",
       "  </tbody>\n",
       "</table>\n",
       "</div>"
      ],
      "text/plain": [
       "                                             aliases            date_of_birth  \\\n",
       "0  [Washington, President Washington, G. Washingt...  [+1732-02-22T00:00:00Z]   \n",
       "1  [Douglas Noel Adams, Douglas Noël Adams, Dougl...  [+1952-03-11T00:00:00Z]   \n",
       "\n",
       "      nationality      gender   lastrevid ethnic_group US_congress_bio_ID  \\\n",
       "0  [Q161885, Q30]  [Q6581097]  1395141751         None            W000178   \n",
       "1          [Q145]  [Q6581097]  1395737157   [Q7994501]               None   \n",
       "\n",
       "                                          occupation      party  \\\n",
       "0  [Q82955, Q189290, Q131512, Q1734662, Q294126, ...  [Q327591]   \n",
       "1  [Q214917, Q28389, Q6625963, Q4853732, Q1884422...       None   \n",
       "\n",
       "  academic_degree   id              label           candidacy  type   religion  \n",
       "0            None  Q23  George Washington  [Q698073, Q697949]  item  [Q682443]  \n",
       "1            None  Q42      Douglas Adams                None  item       None  "
      ]
     },
     "execution_count": 20,
     "metadata": {},
     "output_type": "execute_result"
    }
   ],
   "source": [
    "# Access to wikipedia data from broswer: https://www.wikidata.org/wiki/QXXX\n",
    "pq = pd.read_parquet(\"speaker_attributes.parquet/part-00000-0d587965-3d8f-41ce-9771-5b8c9024dce9-c000.snappy.parquet\")\n",
    "pq.head(2)"
   ]
  },
  {
   "cell_type": "code",
   "execution_count": 22,
   "metadata": {},
   "outputs": [
    {
     "name": "stderr",
     "output_type": "stream",
     "text": [
      "  0%|          | 0/16 [00:06<?, ?it/s]\n"
     ]
    },
    {
     "ename": "KeyboardInterrupt",
     "evalue": "",
     "output_type": "error",
     "traceback": [
      "\u001b[0;31m---------------------------------------------------------------------------\u001b[0m",
      "\u001b[0;31mKeyboardInterrupt\u001b[0m                         Traceback (most recent call last)",
      "\u001b[0;32m/var/folders/73/9b5bcd4138vbrx0mqs3mv2y40000gn/T/ipykernel_67681/4024504396.py\u001b[0m in \u001b[0;36m<module>\u001b[0;34m\u001b[0m\n\u001b[1;32m     22\u001b[0m         \u001b[0mparquet_buff\u001b[0m\u001b[0;34m,\u001b[0m\u001b[0mnb_nan\u001b[0m \u001b[0;34m=\u001b[0m \u001b[0mremove_nan\u001b[0m\u001b[0;34m(\u001b[0m\u001b[0mparquet_buff\u001b[0m\u001b[0;34m)\u001b[0m\u001b[0;34m\u001b[0m\u001b[0;34m\u001b[0m\u001b[0m\n\u001b[1;32m     23\u001b[0m         \u001b[0mTOT_nb_nan\u001b[0m \u001b[0;34m+=\u001b[0m \u001b[0mnb_nan\u001b[0m\u001b[0;34m\u001b[0m\u001b[0;34m\u001b[0m\u001b[0m\n\u001b[0;32m---> 24\u001b[0;31m         \u001b[0mfile\u001b[0m\u001b[0;34m.\u001b[0m\u001b[0mwrite\u001b[0m\u001b[0;34m(\u001b[0m\u001b[0mparquet_buff\u001b[0m\u001b[0;34m.\u001b[0m\u001b[0mto_json\u001b[0m\u001b[0;34m(\u001b[0m\u001b[0mcompression\u001b[0m\u001b[0;34m=\u001b[0m\u001b[0;34m'bz2'\u001b[0m\u001b[0;34m,\u001b[0m\u001b[0mlines\u001b[0m\u001b[0;34m=\u001b[0m\u001b[0;32mTrue\u001b[0m\u001b[0;34m,\u001b[0m \u001b[0morient\u001b[0m\u001b[0;34m=\u001b[0m\u001b[0;34m'records'\u001b[0m\u001b[0;34m)\u001b[0m\u001b[0;34m.\u001b[0m\u001b[0mencode\u001b[0m\u001b[0;34m(\u001b[0m\u001b[0;34m'utf-8'\u001b[0m\u001b[0;34m)\u001b[0m\u001b[0;34m)\u001b[0m\u001b[0;34m\u001b[0m\u001b[0;34m\u001b[0m\u001b[0m\n\u001b[0m\u001b[1;32m     25\u001b[0m \u001b[0;34m\u001b[0m\u001b[0m\n\u001b[1;32m     26\u001b[0m \u001b[0mprint\u001b[0m\u001b[0;34m(\u001b[0m\u001b[0;34mf'We remove {TOT_nb_nan} over a total of {TOT_size}.'\u001b[0m\u001b[0;34m)\u001b[0m\u001b[0;34m\u001b[0m\u001b[0;34m\u001b[0m\u001b[0m\n",
      "\u001b[0;32m~/.conda/envs/ada/lib/python3.8/bz2.py\u001b[0m in \u001b[0;36mwrite\u001b[0;34m(self, data)\u001b[0m\n\u001b[1;32m    243\u001b[0m         \u001b[0;32mwith\u001b[0m \u001b[0mself\u001b[0m\u001b[0;34m.\u001b[0m\u001b[0m_lock\u001b[0m\u001b[0;34m:\u001b[0m\u001b[0;34m\u001b[0m\u001b[0;34m\u001b[0m\u001b[0m\n\u001b[1;32m    244\u001b[0m             \u001b[0mself\u001b[0m\u001b[0;34m.\u001b[0m\u001b[0m_check_can_write\u001b[0m\u001b[0;34m(\u001b[0m\u001b[0;34m)\u001b[0m\u001b[0;34m\u001b[0m\u001b[0;34m\u001b[0m\u001b[0m\n\u001b[0;32m--> 245\u001b[0;31m             \u001b[0mcompressed\u001b[0m \u001b[0;34m=\u001b[0m \u001b[0mself\u001b[0m\u001b[0;34m.\u001b[0m\u001b[0m_compressor\u001b[0m\u001b[0;34m.\u001b[0m\u001b[0mcompress\u001b[0m\u001b[0;34m(\u001b[0m\u001b[0mdata\u001b[0m\u001b[0;34m)\u001b[0m\u001b[0;34m\u001b[0m\u001b[0;34m\u001b[0m\u001b[0m\n\u001b[0m\u001b[1;32m    246\u001b[0m             \u001b[0mself\u001b[0m\u001b[0;34m.\u001b[0m\u001b[0m_fp\u001b[0m\u001b[0;34m.\u001b[0m\u001b[0mwrite\u001b[0m\u001b[0;34m(\u001b[0m\u001b[0mcompressed\u001b[0m\u001b[0;34m)\u001b[0m\u001b[0;34m\u001b[0m\u001b[0;34m\u001b[0m\u001b[0m\n\u001b[1;32m    247\u001b[0m             \u001b[0mself\u001b[0m\u001b[0;34m.\u001b[0m\u001b[0m_pos\u001b[0m \u001b[0;34m+=\u001b[0m \u001b[0mlen\u001b[0m\u001b[0;34m(\u001b[0m\u001b[0mdata\u001b[0m\u001b[0;34m)\u001b[0m\u001b[0;34m\u001b[0m\u001b[0;34m\u001b[0m\u001b[0m\n",
      "\u001b[0;31mKeyboardInterrupt\u001b[0m: "
     ]
    }
   ],
   "source": [
    "#helper function that removes all lines with NaN value\n",
    "def remove_nan(df): \n",
    "    mask = df.isnull()\n",
    "    mask = mask.any(axis=1)\n",
    "    nb_nan = mask.sum()\n",
    "    return df[~mask.values].reset_index(drop=True), nb_nan\n",
    "\n",
    "\n",
    "path = \"speaker_attributes.json.bz2\" #path where save the metadata\n",
    "nb = ['0000','0001','0002','0003','0004','0005','0006','0007','0008',\n",
    "      '0009','0010','0011','0012','0013','0014','0015']\n",
    "\n",
    "#Choose which column we keep from parquet \n",
    "col = ['date_of_birth', 'nationality', 'gender','id']\n",
    "TOT_nb_nan = 0\n",
    "TOT_size = 0\n",
    "with bz2.open(path, 'wb') as file:\n",
    "    for i in tqdm.tqdm(range(len(nb))):\n",
    "        parquet = pd.read_parquet(\"speaker_attributes.parquet/part-0\"+nb[i]+\"-0d587965-3d8f-41ce-9771-5b8c9024dce9-c000.snappy.parquet\")\n",
    "        TOT_size += parquet.shape[0]\n",
    "        parquet_buff = parquet[col].copy()\n",
    "        parquet_buff,nb_nan = remove_nan(parquet_buff)\n",
    "        TOT_nb_nan += nb_nan\n",
    "        file.write(parquet_buff.to_json(compression='bz2',lines=True, orient='records').encode('utf-8'))\n",
    "\n",
    "print(f'We remove {TOT_nb_nan} over a total of {TOT_size}.')"
   ]
  },
  {
   "cell_type": "code",
   "execution_count": 4,
   "metadata": {},
   "outputs": [
    {
     "name": "stdout",
     "output_type": "stream",
     "text": [
      "Shape of filtered parquets:(3044455, 4)\n"
     ]
    },
    {
     "data": {
      "text/html": [
       "<div>\n",
       "<style scoped>\n",
       "    .dataframe tbody tr th:only-of-type {\n",
       "        vertical-align: middle;\n",
       "    }\n",
       "\n",
       "    .dataframe tbody tr th {\n",
       "        vertical-align: top;\n",
       "    }\n",
       "\n",
       "    .dataframe thead th {\n",
       "        text-align: right;\n",
       "    }\n",
       "</style>\n",
       "<table border=\"1\" class=\"dataframe\">\n",
       "  <thead>\n",
       "    <tr style=\"text-align: right;\">\n",
       "      <th></th>\n",
       "      <th>date_of_birth</th>\n",
       "      <th>nationality</th>\n",
       "      <th>gender</th>\n",
       "      <th>id</th>\n",
       "    </tr>\n",
       "  </thead>\n",
       "  <tbody>\n",
       "    <tr>\n",
       "      <th>0</th>\n",
       "      <td>[+1732-02-22T00:00:00Z]</td>\n",
       "      <td>[Q161885, Q30]</td>\n",
       "      <td>[Q6581097]</td>\n",
       "      <td>Q23</td>\n",
       "    </tr>\n",
       "    <tr>\n",
       "      <th>1</th>\n",
       "      <td>[+1952-03-11T00:00:00Z]</td>\n",
       "      <td>[Q145]</td>\n",
       "      <td>[Q6581097]</td>\n",
       "      <td>Q42</td>\n",
       "    </tr>\n",
       "  </tbody>\n",
       "</table>\n",
       "</div>"
      ],
      "text/plain": [
       "             date_of_birth     nationality      gender   id\n",
       "0  [+1732-02-22T00:00:00Z]  [Q161885, Q30]  [Q6581097]  Q23\n",
       "1  [+1952-03-11T00:00:00Z]          [Q145]  [Q6581097]  Q42"
      ]
     },
     "execution_count": 4,
     "metadata": {},
     "output_type": "execute_result"
    }
   ],
   "source": [
    "#Display filtered Wikidataset \n",
    "parquet = pd.read_json('speaker_attributes.json.bz2',lines=True, orient='records', compression='bz2') \n",
    "print(f'Shape of filtered parquets:{parquet.shape}')\n",
    "parquet.head(2)"
   ]
  },
  {
   "cell_type": "markdown",
   "metadata": {},
   "source": [
    "To find the age of the speaker, we make the decision to clean the data by keeping only the year of birth. Moreover, some speakers happen to have more than one attribute. In that case, we choose  to keep only one attribute per column."
   ]
  },
  {
   "cell_type": "code",
   "execution_count": 5,
   "metadata": {},
   "outputs": [
    {
     "data": {
      "text/html": [
       "<div>\n",
       "<style scoped>\n",
       "    .dataframe tbody tr th:only-of-type {\n",
       "        vertical-align: middle;\n",
       "    }\n",
       "\n",
       "    .dataframe tbody tr th {\n",
       "        vertical-align: top;\n",
       "    }\n",
       "\n",
       "    .dataframe thead th {\n",
       "        text-align: right;\n",
       "    }\n",
       "</style>\n",
       "<table border=\"1\" class=\"dataframe\">\n",
       "  <thead>\n",
       "    <tr style=\"text-align: right;\">\n",
       "      <th></th>\n",
       "      <th>date_of_birth</th>\n",
       "      <th>nationality</th>\n",
       "      <th>gender</th>\n",
       "      <th>id</th>\n",
       "    </tr>\n",
       "  </thead>\n",
       "  <tbody>\n",
       "    <tr>\n",
       "      <th>0</th>\n",
       "      <td>1732</td>\n",
       "      <td>Q161885</td>\n",
       "      <td>Q6581097</td>\n",
       "      <td>Q23</td>\n",
       "    </tr>\n",
       "    <tr>\n",
       "      <th>1</th>\n",
       "      <td>1952</td>\n",
       "      <td>Q145</td>\n",
       "      <td>Q6581097</td>\n",
       "      <td>Q42</td>\n",
       "    </tr>\n",
       "  </tbody>\n",
       "</table>\n",
       "</div>"
      ],
      "text/plain": [
       "  date_of_birth nationality    gender   id\n",
       "0          1732     Q161885  Q6581097  Q23\n",
       "1          1952        Q145  Q6581097  Q42"
      ]
     },
     "execution_count": 5,
     "metadata": {},
     "output_type": "execute_result"
    }
   ],
   "source": [
    "pq_buffer = parquet.copy()\n",
    "#if there are more than one value in a fild we make the arbitrary decision to choose only one\n",
    "pq_buffer['nationality'] = pq_buffer['nationality'].apply(lambda x: x[0])\n",
    "pq_buffer['gender'] = pq_buffer['gender'].apply(lambda x: x[0])\n",
    "\n",
    "pq_buffer['date_of_birth'] = pq_buffer['date_of_birth'].apply(lambda x: x[0][1:5]) #save only year \n",
    "pq_buffer.head(2)"
   ]
  },
  {
   "cell_type": "markdown",
   "metadata": {},
   "source": [
    "Each gender and nationality is characterized by a QID number. We process our dataset to associate the QID number to the written value it corresponds to. To do so, we use the the Wikidata labels description quote bank file that links every nationality and gender QID number."
   ]
  },
  {
   "cell_type": "code",
   "execution_count": 9,
   "metadata": {},
   "outputs": [
    {
     "data": {
      "text/html": [
       "<div>\n",
       "<style scoped>\n",
       "    .dataframe tbody tr th:only-of-type {\n",
       "        vertical-align: middle;\n",
       "    }\n",
       "\n",
       "    .dataframe tbody tr th {\n",
       "        vertical-align: top;\n",
       "    }\n",
       "\n",
       "    .dataframe thead th {\n",
       "        text-align: right;\n",
       "    }\n",
       "</style>\n",
       "<table border=\"1\" class=\"dataframe\">\n",
       "  <thead>\n",
       "    <tr style=\"text-align: right;\">\n",
       "      <th></th>\n",
       "      <th>QID</th>\n",
       "      <th>Label</th>\n",
       "      <th>Description</th>\n",
       "    </tr>\n",
       "  </thead>\n",
       "  <tbody>\n",
       "    <tr>\n",
       "      <th>0</th>\n",
       "      <td>Q31</td>\n",
       "      <td>Belgium</td>\n",
       "      <td>country in western Europe</td>\n",
       "    </tr>\n",
       "    <tr>\n",
       "      <th>1</th>\n",
       "      <td>Q45</td>\n",
       "      <td>Portugal</td>\n",
       "      <td>country in southwestern Europe</td>\n",
       "    </tr>\n",
       "  </tbody>\n",
       "</table>\n",
       "</div>"
      ],
      "text/plain": [
       "   QID     Label                     Description\n",
       "0  Q31   Belgium       country in western Europe\n",
       "1  Q45  Portugal  country in southwestern Europe"
      ]
     },
     "execution_count": 9,
     "metadata": {},
     "output_type": "execute_result"
    }
   ],
   "source": [
    "#load data for label description \n",
    "label =  pd.read_csv('wikidata_labels_descriptions_quotebank.csv.bz2', compression='bz2') \n",
    "label.head(2)"
   ]
  },
  {
   "cell_type": "code",
   "execution_count": 10,
   "metadata": {},
   "outputs": [
    {
     "data": {
      "text/html": [
       "<div>\n",
       "<style scoped>\n",
       "    .dataframe tbody tr th:only-of-type {\n",
       "        vertical-align: middle;\n",
       "    }\n",
       "\n",
       "    .dataframe tbody tr th {\n",
       "        vertical-align: top;\n",
       "    }\n",
       "\n",
       "    .dataframe thead th {\n",
       "        text-align: right;\n",
       "    }\n",
       "</style>\n",
       "<table border=\"1\" class=\"dataframe\">\n",
       "  <thead>\n",
       "    <tr style=\"text-align: right;\">\n",
       "      <th></th>\n",
       "      <th>date_of_birth</th>\n",
       "      <th>nationality</th>\n",
       "      <th>gender</th>\n",
       "      <th>id</th>\n",
       "    </tr>\n",
       "  </thead>\n",
       "  <tbody>\n",
       "    <tr>\n",
       "      <th>0</th>\n",
       "      <td>1732</td>\n",
       "      <td>Great Britain</td>\n",
       "      <td>male</td>\n",
       "      <td>Q23</td>\n",
       "    </tr>\n",
       "    <tr>\n",
       "      <th>1</th>\n",
       "      <td>1952</td>\n",
       "      <td>United Kingdom</td>\n",
       "      <td>male</td>\n",
       "      <td>Q42</td>\n",
       "    </tr>\n",
       "  </tbody>\n",
       "</table>\n",
       "</div>"
      ],
      "text/plain": [
       "  date_of_birth     nationality gender   id\n",
       "0          1732   Great Britain   male  Q23\n",
       "1          1952  United Kingdom   male  Q42"
      ]
     },
     "execution_count": 10,
     "metadata": {},
     "output_type": "execute_result"
    }
   ],
   "source": [
    "#Generate dict for replace qids with label\n",
    "mask1 = label['QID'].isin(set(pq_buffer.nationality))\n",
    "dict_nat = dict(zip(label.QID[mask1],label.Label[mask1]))\n",
    "mask2 = label['QID'].isin(set(pq_buffer.gender))\n",
    "dict_gen = dict(zip(label.QID[mask2],label.Label[mask2]))\n",
    "\n",
    "#replace qid\n",
    "pq_buffer = pq_buffer.replace(dict_nat)\n",
    "pq_buffer = pq_buffer.replace(dict_gen)\n",
    "pq_buffer.head(2)"
   ]
  },
  {
   "cell_type": "code",
   "execution_count": 11,
   "metadata": {},
   "outputs": [],
   "source": [
    "#save the clean and processed wikidataset \n",
    "path = \"speaker_attributes_final.json.bz2\"\n",
    "with bz2.open(\"speaker_attributes_final.json.bz2\", 'wb') as d_file:\n",
    "    d_file.write(pq_buffer.to_json(compression='bz2',lines=True, orient='records').encode('utf-8'))"
   ]
  },
  {
   "cell_type": "markdown",
   "metadata": {},
   "source": [
    "Each speaker’s gender, age and nationality can now be found according to their Id number. We can proceed to work on the Quotebank dataset."
   ]
  },
  {
   "cell_type": "markdown",
   "metadata": {},
   "source": [
    "### 2. QuoteBank dataset"
   ]
  },
  {
   "cell_type": "markdown",
   "metadata": {},
   "source": [
    "We will load and process the Quotebank dataset. This dataset contains quotes from different speakers from different news sources  (for each year from 2015 to 2020).\n",
    "\n",
    "The Quotebank dataset is filtered by dropping all the lines containing missing values with respect to the speaker. As we will analyze our datas across different news sources, we convert the urls in site names. In order to be able to generate plots for further analysis, we choose to round the date of the quotes. Indeed, our analysis will be based on big timescale (day or years), so we remove the minutes and seconds. We use the WikiData  previously cleaned and processed to avoid mistakes in futur analyses : we drop all the quotes that are not surely associated with a speaker, as well as the lines containing speakers that do not match with a Wikidata Id. \n",
    "\n",
    "We also choose to get rid of unnecessary characters and stop words in the quotations. The purpose of this cleaning is to be able to perform easier word analysis when applying our Machine Learning method to generate groups of quotes by main topics."
   ]
  },
  {
   "cell_type": "code",
   "execution_count": 27,
   "metadata": {},
   "outputs": [],
   "source": [
    "#load speaker_attributes\n",
    "path = \"speaker_attributes_final.json.bz2\"\n",
    "speaker_atr = pd.read_json(path, lines=True, compression='bz2')"
   ]
  },
  {
   "cell_type": "code",
   "execution_count": 2,
   "metadata": {},
   "outputs": [],
   "source": [
    "#helper function to clean the quote\n",
    "def process_text(text):\n",
    "    #removing some characters\n",
    "    text = text.lower().replace('\\n',' ').replace('\\r','').strip()\n",
    "    text = re.sub(' +', ' ', text)\n",
    "    text = re.sub(r'[^\\w\\s]','',text)\n",
    "    \n",
    "    #removing stopwords that will not contribute to the classification\n",
    "    stop_words = set(stopwords.words('english')) \n",
    "    word_tokens = word_tokenize(text) \n",
    "\n",
    "    filtered_sentence = [] \n",
    "    for w in word_tokens: \n",
    "        if w not in stop_words: \n",
    "            filtered_sentence.append(w) \n",
    "    \n",
    "    text = \" \".join(filtered_sentence)\n",
    "    return text\n",
    "\n",
    "'''\n",
    "Helper function that clean a chunck dataframe and save only the data\n",
    "of interest: 'quotation', 'speaker', 'qids', 'date', 'urls' -> 'site'.\n",
    "'''\n",
    "def clean_chunk(chunk):\n",
    "        len_chunk =len(chunk)\n",
    "        print(f'Processing chunk with {len_chunk} rows')\n",
    "        \n",
    "        #Check and remove the NaN value \n",
    "        chunk.replace('None', np.nan, inplace=True) # We need to convert the string None to a proper one.\n",
    "        chunk, Nb_Nan = remove_nan(chunk)\n",
    "                \n",
    "        #convert the urls in site\n",
    "        chunk['urls'] = [line[0].split('/')[2] for line in chunk['urls']]\n",
    "        \n",
    "        #we round the timestamp to day\n",
    "        chunk['date'] = chunk['date'].round('D')\n",
    "        \n",
    "        #drop the line where we are not sure who is the speaker (multiple pepole with the same name)\n",
    "        nb_mult_name = chunk.shape[0] \n",
    "        len_quis = chunk.qids.apply(len)\n",
    "        chunk = chunk[len_quis == 1]\n",
    "        nb_mult_name = nb_mult_name - chunk.shape[0] #how many element we drop\n",
    "        chunk['qids'] = chunk['qids'].apply(lambda x: x[0])\n",
    "        \n",
    "        #drop the line where the speaker doesn't have a wikidata\n",
    "        nb_nonmatch = chunk.shape[0]\n",
    "        chunk = chunk[chunk.qids.isin(speaker_atr.id)]\n",
    "        nb_nonmatch = nb_nonmatch - chunk.shape[0] #how many element we drop\n",
    "        \n",
    "        #covert the quotation in proper one \n",
    "        chunk['quotation'] = chunk['quotation'].apply(process_text)\n",
    "        \n",
    "        return chunk.reset_index(drop=True), nb_nan, nb_mult_name, nb_nonmatch\n",
    "\n"
   ]
  },
  {
   "cell_type": "markdown",
   "metadata": {},
   "source": [
    "We perform all the steps mentioned above on the Quotebank datasets from the years of 2015 to 2020. In order to visualize our filtered data we save the quotation length, the dates and the urls in a counter."
   ]
  },
  {
   "cell_type": "code",
   "execution_count": 24,
   "metadata": {},
   "outputs": [],
   "source": [
    "'''\n",
    "Helper function to filter and save the dataset of a certain year, \n",
    "it returns the counters for visualisation and statitical analysis \n",
    "'''\n",
    "def clean_dataset(path_dataset, path_dataset_clean):\n",
    "    #Choose which column from dataset save\n",
    "    col = ['quotation','speaker','date','qids', 'urls']  \n",
    "    TOT_nb_nan = 0\n",
    "    TOT_nb_mult_name = 0\n",
    "    TOT_nb_nonmatch = 0\n",
    "    TOT_size = 0\n",
    "    TOT_size_clean = 0\n",
    "    counter_quote, counter_date, counter_urls = Counter(),Counter(),Counter()\n",
    "    with pd.read_json(path_dataset, lines=True, compression='bz2', chunksize=300000) as df_reader:\n",
    "        with bz2.open(path_dataset_clean, 'wb') as d_file:\n",
    "            count = 0\n",
    "            for chunk in df_reader:\n",
    "                TOT_size += chunk.shape[0]\n",
    "                df, nb_nan, nb_mult_name, nb_nonmatch = clean_chunk(chunk[col].copy()) #remove odd values\n",
    "                #count number odd value\n",
    "                TOT_nb_nan += nb_nan\n",
    "                TOT_nb_mult_name += nb_mult_name\n",
    "                TOT_nb_nonmatch += nb_nonmatch\n",
    "                TOT_size_clean += df.shape[0]\n",
    "\n",
    "                #Store data for visualisation \n",
    "                counter_quote += Counter(df['quotation'].apply(len))\n",
    "                counter_date += Counter(df['date'])\n",
    "                counter_urls += Counter(df['urls'])\n",
    "                \n",
    "                #write in the ouput file\n",
    "                d_file.write(df.to_json(compression='bz2',lines=True, orient='records').encode('utf-8'))  \n",
    "                \n",
    "    print(f'We remove {TOT_nb_nan+ TOT_nb_mult_name + TOT_nb_nonmatch} over a total of {TOT_size}')\n",
    "    print(f'No speaker {(TOT_nb_nan/TOT_size)*100} %')\n",
    "    print(f'Speaker with multiple possible name {(TOT_nb_mult_name/TOT_size)*100} %')\n",
    "    print(f'Speaker that do not mach the metadata {(TOT_nb_nonmatch/TOT_size)*100} %')\n",
    "    print(f'The final shape of the dataset is{TOT_size_clean}')\n",
    "    return counter_quote, counter_date, counter_urls\n",
    "\n"
   ]
  },
  {
   "cell_type": "markdown",
   "metadata": {},
   "source": [
    "We define some helper functions to help plot the data and calculate statistic. In particular they plot the distribution for the quotes and  dates. They also print the most frequent url, and calculate min, max and mean for the quote lenght."
   ]
  },
  {
   "cell_type": "code",
   "execution_count": 25,
   "metadata": {},
   "outputs": [],
   "source": [
    "#helper function for quote, it print the mean, min and max and it plot the dstribution.\n",
    "def describe_len_quote(counter_quote):\n",
    "    quote = pd.DataFrame.from_records(counter_quote.most_common(), columns=['value','count'])\n",
    "    mean = ((quote['value']*quote['count']).sum())/quote['count'].sum()\n",
    "    min_ = quote['value'].min()\n",
    "    max_ = quote['value'].max()\n",
    "    print(f'Quote length: mean = {mean}, max = {max_}, min = {min_}')\n",
    "    plt.figure(figsize=(16, 5))\n",
    "    plt.bar(quote['value'], quote['count'], edgecolor=\"k\")\n",
    "    plt.title('Distribution Length Quote',fontsize=15)\n",
    "    plt.show()\n",
    "    \n",
    "#helper function for date  \n",
    "def describe_date(counter_date):\n",
    "    date = pd.DataFrame.from_records(counter_date.most_common(), columns=['value','count'])\n",
    "    plt.figure(figsize=(16, 5))\n",
    "    plt.bar(date['value'], date['count'], edgecolor=\"k\")\n",
    "    plt.title('Distribution Date',fontsize=15)\n",
    "    plt.xticks(rotation=75)\n",
    "    plt.show()\n",
    "    \n",
    "#helper function for urls\n",
    "def describe_urls(counter_urls):\n",
    "    urls = pd.DataFrame.from_records(counter_urls.most_common(), columns=['value','count'])\n",
    "    max_ = urls['count'].max()\n",
    "    val = urls[urls['count'] ==max_ ]['value'].item()\n",
    "    print(f'The most frequent urls is {val} and it is present {max_} time.')"
   ]
  },
  {
   "cell_type": "markdown",
   "metadata": {},
   "source": [
    "##### Year 2020 Dataset claning and analysis "
   ]
  },
  {
   "cell_type": "code",
   "execution_count": 28,
   "metadata": {},
   "outputs": [
    {
     "ename": "KeyboardInterrupt",
     "evalue": "",
     "output_type": "error",
     "traceback": [
      "\u001b[0;31m---------------------------------------------------------------------------\u001b[0m",
      "\u001b[0;31mKeyboardInterrupt\u001b[0m                         Traceback (most recent call last)",
      "\u001b[0;32m/var/folders/73/9b5bcd4138vbrx0mqs3mv2y40000gn/T/ipykernel_67681/1578640201.py\u001b[0m in \u001b[0;36m<module>\u001b[0;34m\u001b[0m\n\u001b[1;32m      2\u001b[0m \u001b[0mpath_dataset\u001b[0m \u001b[0;34m=\u001b[0m \u001b[0;34m'quotes-2020.json.bz2'\u001b[0m\u001b[0;34m\u001b[0m\u001b[0;34m\u001b[0m\u001b[0m\n\u001b[1;32m      3\u001b[0m \u001b[0mpath_dataset_clean\u001b[0m \u001b[0;34m=\u001b[0m \u001b[0;34m'quotes-2020-clean.json.bz2'\u001b[0m\u001b[0;34m\u001b[0m\u001b[0;34m\u001b[0m\u001b[0m\n\u001b[0;32m----> 4\u001b[0;31m \u001b[0mcounter_quote\u001b[0m\u001b[0;34m,\u001b[0m \u001b[0mcounter_date\u001b[0m\u001b[0;34m,\u001b[0m \u001b[0mcounter_urls\u001b[0m  \u001b[0;34m=\u001b[0m \u001b[0mclean_dataset\u001b[0m\u001b[0;34m(\u001b[0m\u001b[0mpath_dataset\u001b[0m\u001b[0;34m,\u001b[0m \u001b[0mpath_dataset_clean\u001b[0m\u001b[0;34m)\u001b[0m\u001b[0;34m\u001b[0m\u001b[0;34m\u001b[0m\u001b[0m\n\u001b[0m",
      "\u001b[0;32m/var/folders/73/9b5bcd4138vbrx0mqs3mv2y40000gn/T/ipykernel_67681/3129577623.py\u001b[0m in \u001b[0;36mclean_dataset\u001b[0;34m(path_dataset, path_dataset_clean)\u001b[0m\n\u001b[1;32m     15\u001b[0m         \u001b[0;32mwith\u001b[0m \u001b[0mbz2\u001b[0m\u001b[0;34m.\u001b[0m\u001b[0mopen\u001b[0m\u001b[0;34m(\u001b[0m\u001b[0mpath_dataset_clean\u001b[0m\u001b[0;34m,\u001b[0m \u001b[0;34m'wb'\u001b[0m\u001b[0;34m)\u001b[0m \u001b[0;32mas\u001b[0m \u001b[0md_file\u001b[0m\u001b[0;34m:\u001b[0m\u001b[0;34m\u001b[0m\u001b[0;34m\u001b[0m\u001b[0m\n\u001b[1;32m     16\u001b[0m             \u001b[0mcount\u001b[0m \u001b[0;34m=\u001b[0m \u001b[0;36m0\u001b[0m\u001b[0;34m\u001b[0m\u001b[0;34m\u001b[0m\u001b[0m\n\u001b[0;32m---> 17\u001b[0;31m             \u001b[0;32mfor\u001b[0m \u001b[0mchunk\u001b[0m \u001b[0;32min\u001b[0m \u001b[0mdf_reader\u001b[0m\u001b[0;34m:\u001b[0m\u001b[0;34m\u001b[0m\u001b[0;34m\u001b[0m\u001b[0m\n\u001b[0m\u001b[1;32m     18\u001b[0m                 \u001b[0mTOT_size\u001b[0m \u001b[0;34m+=\u001b[0m \u001b[0mchunk\u001b[0m\u001b[0;34m.\u001b[0m\u001b[0mshape\u001b[0m\u001b[0;34m[\u001b[0m\u001b[0;36m0\u001b[0m\u001b[0;34m]\u001b[0m\u001b[0;34m\u001b[0m\u001b[0;34m\u001b[0m\u001b[0m\n\u001b[1;32m     19\u001b[0m                 \u001b[0mdf\u001b[0m\u001b[0;34m,\u001b[0m \u001b[0mnb_nan\u001b[0m\u001b[0;34m,\u001b[0m \u001b[0mnb_mult_name\u001b[0m\u001b[0;34m,\u001b[0m \u001b[0mnb_nonmatch\u001b[0m \u001b[0;34m=\u001b[0m \u001b[0mclean_chunk\u001b[0m\u001b[0;34m(\u001b[0m\u001b[0mchunk\u001b[0m\u001b[0;34m[\u001b[0m\u001b[0mcol\u001b[0m\u001b[0;34m]\u001b[0m\u001b[0;34m.\u001b[0m\u001b[0mcopy\u001b[0m\u001b[0;34m(\u001b[0m\u001b[0;34m)\u001b[0m\u001b[0;34m)\u001b[0m \u001b[0;31m#remove odd values\u001b[0m\u001b[0;34m\u001b[0m\u001b[0;34m\u001b[0m\u001b[0m\n",
      "\u001b[0;32m~/.conda/envs/ada/lib/python3.8/site-packages/pandas/io/json/_json.py\u001b[0m in \u001b[0;36m__next__\u001b[0;34m(self)\u001b[0m\n\u001b[1;32m    796\u001b[0m         \u001b[0;32mif\u001b[0m \u001b[0mlines\u001b[0m\u001b[0;34m:\u001b[0m\u001b[0;34m\u001b[0m\u001b[0;34m\u001b[0m\u001b[0m\n\u001b[1;32m    797\u001b[0m             \u001b[0mlines_json\u001b[0m \u001b[0;34m=\u001b[0m \u001b[0mself\u001b[0m\u001b[0;34m.\u001b[0m\u001b[0m_combine_lines\u001b[0m\u001b[0;34m(\u001b[0m\u001b[0mlines\u001b[0m\u001b[0;34m)\u001b[0m\u001b[0;34m\u001b[0m\u001b[0;34m\u001b[0m\u001b[0m\n\u001b[0;32m--> 798\u001b[0;31m             \u001b[0mobj\u001b[0m \u001b[0;34m=\u001b[0m \u001b[0mself\u001b[0m\u001b[0;34m.\u001b[0m\u001b[0m_get_object_parser\u001b[0m\u001b[0;34m(\u001b[0m\u001b[0mlines_json\u001b[0m\u001b[0;34m)\u001b[0m\u001b[0;34m\u001b[0m\u001b[0;34m\u001b[0m\u001b[0m\n\u001b[0m\u001b[1;32m    799\u001b[0m \u001b[0;34m\u001b[0m\u001b[0m\n\u001b[1;32m    800\u001b[0m             \u001b[0;31m# Make sure that the returned objects have the right index.\u001b[0m\u001b[0;34m\u001b[0m\u001b[0;34m\u001b[0m\u001b[0;34m\u001b[0m\u001b[0m\n",
      "\u001b[0;32m~/.conda/envs/ada/lib/python3.8/site-packages/pandas/io/json/_json.py\u001b[0m in \u001b[0;36m_get_object_parser\u001b[0;34m(self, json)\u001b[0m\n\u001b[1;32m    768\u001b[0m         \u001b[0mobj\u001b[0m \u001b[0;34m=\u001b[0m \u001b[0;32mNone\u001b[0m\u001b[0;34m\u001b[0m\u001b[0;34m\u001b[0m\u001b[0m\n\u001b[1;32m    769\u001b[0m         \u001b[0;32mif\u001b[0m \u001b[0mtyp\u001b[0m \u001b[0;34m==\u001b[0m \u001b[0;34m\"frame\"\u001b[0m\u001b[0;34m:\u001b[0m\u001b[0;34m\u001b[0m\u001b[0;34m\u001b[0m\u001b[0m\n\u001b[0;32m--> 770\u001b[0;31m             \u001b[0mobj\u001b[0m \u001b[0;34m=\u001b[0m \u001b[0mFrameParser\u001b[0m\u001b[0;34m(\u001b[0m\u001b[0mjson\u001b[0m\u001b[0;34m,\u001b[0m \u001b[0;34m**\u001b[0m\u001b[0mkwargs\u001b[0m\u001b[0;34m)\u001b[0m\u001b[0;34m.\u001b[0m\u001b[0mparse\u001b[0m\u001b[0;34m(\u001b[0m\u001b[0;34m)\u001b[0m\u001b[0;34m\u001b[0m\u001b[0;34m\u001b[0m\u001b[0m\n\u001b[0m\u001b[1;32m    771\u001b[0m \u001b[0;34m\u001b[0m\u001b[0m\n\u001b[1;32m    772\u001b[0m         \u001b[0;32mif\u001b[0m \u001b[0mtyp\u001b[0m \u001b[0;34m==\u001b[0m \u001b[0;34m\"series\"\u001b[0m \u001b[0;32mor\u001b[0m \u001b[0mobj\u001b[0m \u001b[0;32mis\u001b[0m \u001b[0;32mNone\u001b[0m\u001b[0;34m:\u001b[0m\u001b[0;34m\u001b[0m\u001b[0;34m\u001b[0m\u001b[0m\n",
      "\u001b[0;32m~/.conda/envs/ada/lib/python3.8/site-packages/pandas/io/json/_json.py\u001b[0m in \u001b[0;36mparse\u001b[0;34m(self)\u001b[0m\n\u001b[1;32m    883\u001b[0m \u001b[0;34m\u001b[0m\u001b[0m\n\u001b[1;32m    884\u001b[0m         \u001b[0;32melse\u001b[0m\u001b[0;34m:\u001b[0m\u001b[0;34m\u001b[0m\u001b[0;34m\u001b[0m\u001b[0m\n\u001b[0;32m--> 885\u001b[0;31m             \u001b[0mself\u001b[0m\u001b[0;34m.\u001b[0m\u001b[0m_parse_no_numpy\u001b[0m\u001b[0;34m(\u001b[0m\u001b[0;34m)\u001b[0m\u001b[0;34m\u001b[0m\u001b[0;34m\u001b[0m\u001b[0m\n\u001b[0m\u001b[1;32m    886\u001b[0m \u001b[0;34m\u001b[0m\u001b[0m\n\u001b[1;32m    887\u001b[0m         \u001b[0;32mif\u001b[0m \u001b[0mself\u001b[0m\u001b[0;34m.\u001b[0m\u001b[0mobj\u001b[0m \u001b[0;32mis\u001b[0m \u001b[0;32mNone\u001b[0m\u001b[0;34m:\u001b[0m\u001b[0;34m\u001b[0m\u001b[0;34m\u001b[0m\u001b[0m\n",
      "\u001b[0;32m~/.conda/envs/ada/lib/python3.8/site-packages/pandas/io/json/_json.py\u001b[0m in \u001b[0;36m_parse_no_numpy\u001b[0;34m(self)\u001b[0m\n\u001b[1;32m   1138\u001b[0m         \u001b[0;32mif\u001b[0m \u001b[0morient\u001b[0m \u001b[0;34m==\u001b[0m \u001b[0;34m\"columns\"\u001b[0m\u001b[0;34m:\u001b[0m\u001b[0;34m\u001b[0m\u001b[0;34m\u001b[0m\u001b[0m\n\u001b[1;32m   1139\u001b[0m             self.obj = DataFrame(\n\u001b[0;32m-> 1140\u001b[0;31m                 \u001b[0mloads\u001b[0m\u001b[0;34m(\u001b[0m\u001b[0mjson\u001b[0m\u001b[0;34m,\u001b[0m \u001b[0mprecise_float\u001b[0m\u001b[0;34m=\u001b[0m\u001b[0mself\u001b[0m\u001b[0;34m.\u001b[0m\u001b[0mprecise_float\u001b[0m\u001b[0;34m)\u001b[0m\u001b[0;34m,\u001b[0m \u001b[0mdtype\u001b[0m\u001b[0;34m=\u001b[0m\u001b[0;32mNone\u001b[0m\u001b[0;34m\u001b[0m\u001b[0;34m\u001b[0m\u001b[0m\n\u001b[0m\u001b[1;32m   1141\u001b[0m             )\n\u001b[1;32m   1142\u001b[0m         \u001b[0;32melif\u001b[0m \u001b[0morient\u001b[0m \u001b[0;34m==\u001b[0m \u001b[0;34m\"split\"\u001b[0m\u001b[0;34m:\u001b[0m\u001b[0;34m\u001b[0m\u001b[0;34m\u001b[0m\u001b[0m\n",
      "\u001b[0;31mKeyboardInterrupt\u001b[0m: "
     ]
    }
   ],
   "source": [
    "#Path to dataset and the new dataset\n",
    "path_dataset = 'quotes-2020.json.bz2' \n",
    "path_dataset_clean = 'quotes-2020-clean.json.bz2'\n",
    "counter_quote, counter_date, counter_urls  = clean_dataset(path_dataset, path_dataset_clean)"
   ]
  },
  {
   "cell_type": "code",
   "execution_count": 16,
   "metadata": {},
   "outputs": [
    {
     "name": "stdout",
     "output_type": "stream",
     "text": [
      "Quote length: mean = 86.0132870371026, max = 2472, min = 0\n"
     ]
    },
    {
     "data": {
      "image/png": "[encoded data removed]",
      "text/plain": [
       "<Figure size 1152x360 with 1 Axes>"
      ]
     },
     "metadata": {},
     "output_type": "display_data"
    }
   ],
   "source": [
    "describe_len_quote(counter_quote)"
   ]
  },
  {
   "cell_type": "markdown",
   "metadata": {},
   "source": [
    "The mean length of the quotes is quite short : around 86 characters, this result shows that the method for categorizing the quotes into groups of topics should work in an efficient way on our filtered QuoteBank dataset. "
   ]
  },
  {
   "cell_type": "code",
   "execution_count": 60,
   "metadata": {},
   "outputs": [
    {
     "data": {
      "image/png": "[encoded data removed]",
      "text/plain": [
       "<Figure size 1152x360 with 1 Axes>"
      ]
     },
     "metadata": {},
     "output_type": "display_data"
    }
   ],
   "source": [
    "describe_date(counter_date)"
   ]
  },
  {
   "cell_type": "markdown",
   "metadata": {},
   "source": [
    "We can assume that our dataset is well distributed over the time based on the 2020 dataset. Therefore, we will indeed be able to perform analysis over time in our futur work. On looking regulary spikes that we see we can deduct that represent the week day/weekend day."
   ]
  },
  {
   "cell_type": "code",
   "execution_count": 18,
   "metadata": {},
   "outputs": [
    {
     "name": "stdout",
     "output_type": "stream",
     "text": [
      "The most frequent urls is www.breitbart.com and it is present 23201 time.\n"
     ]
    }
   ],
   "source": [
    "describe_urls(counter_urls)"
   ]
  },
  {
   "cell_type": "markdown",
   "metadata": {},
   "source": [
    "We than perform the same analysis and cleaning for the datasets from other years."
   ]
  },
  {
   "cell_type": "markdown",
   "metadata": {},
   "source": [
    "##### Year 2019 Dataset cleaning and analysis "
   ]
  },
  {
   "cell_type": "code",
   "execution_count": null,
   "metadata": {},
   "outputs": [],
   "source": [
    "path_dataset = 'quotes-2019.json.bz2' \n",
    "path_dataset_clean = 'quotes-2019-clean.json.bz2'\n",
    "counter_quote, counter_date, counter_urls  = clean_dataset(path_dataset, path_dataset_clean)\n",
    "describe_len_quote(counter_quote)\n",
    "describe_date(counter_date)\n",
    "describe_urls(counter_urls)"
   ]
  },
  {
   "cell_type": "markdown",
   "metadata": {},
   "source": [
    "##### Year 2018 Dataset cleaning and analysis "
   ]
  },
  {
   "cell_type": "code",
   "execution_count": null,
   "metadata": {},
   "outputs": [],
   "source": [
    "path_dataset = 'quotes-2018.json.bz2' \n",
    "path_dataset_clean = 'quotes-2018-clean.json.bz2'\n",
    "counter_quote, counter_date, counter_urls  = clean_dataset(path_dataset, path_dataset_clean)\n",
    "describe_len_quote(counter_quote)\n",
    "describe_date(counter_date)\n",
    "describe_urls(counter_urls)"
   ]
  },
  {
   "cell_type": "markdown",
   "metadata": {},
   "source": [
    "##### Year 2017 Dataset cleaning and analysis "
   ]
  },
  {
   "cell_type": "code",
   "execution_count": null,
   "metadata": {},
   "outputs": [],
   "source": [
    "path_dataset = 'quotes-2017.json.bz2' \n",
    "path_dataset_clean = 'quotes-2017-clean.json.bz2'\n",
    "counter_quote, counter_date, counter_urls  = clean_dataset(path_dataset, path_dataset_clean)\n",
    "describe_len_quote(counter_quote)\n",
    "describe_date(counter_date)\n",
    "describe_urls(counter_urls)"
   ]
  },
  {
   "cell_type": "markdown",
   "metadata": {},
   "source": [
    "##### Year 2016 Dataset cleaning and analysis "
   ]
  },
  {
   "cell_type": "code",
   "execution_count": null,
   "metadata": {},
   "outputs": [],
   "source": [
    "path_dataset = 'quotes-2016.json.bz2' \n",
    "path_dataset_clean = 'quotes-2016-clean.json.bz2'\n",
    "counter_quote, counter_date, counter_urls  = clean_dataset(path_dataset, path_dataset_clean)\n",
    "describe_len_quote(counter_quote)\n",
    "describe_date(counter_date)\n",
    "describe_urls(counter_urls)"
   ]
  },
  {
   "cell_type": "markdown",
   "metadata": {},
   "source": [
    "##### Year 2015 Dataset cleaning and analysis "
   ]
  },
  {
   "cell_type": "code",
   "execution_count": null,
   "metadata": {},
   "outputs": [],
   "source": [
    "path_dataset = 'quotes-2015.json.bz2' \n",
    "path_dataset_clean = 'quotes-2015-clean.json.bz2'\n",
    "counter_quote, counter_date, counter_urls  = clean_dataset(path_dataset, path_dataset_clean)\n",
    "describe_len_quote(counter_quote)\n",
    "describe_date(counter_date)\n",
    "describe_urls(counter_urls)"
   ]
  },
  {
   "cell_type": "markdown",
   "metadata": {},
   "source": [
    "### 3. BBC Dataset\n",
    "In this part we will preprocess the additional dataset for our project of classification of newsquotes into categories.\n",
    "We will make use of the BBC news articles dataset that can be seen below. It is a datat set that contains thousands of news articles classified into five categories: *Business*, *Entertainement*, *Sports*, *Tech*, *Politics*.\n",
    "\n",
    "The goal is to train a machine learning model capable of reading a quote and assigning it to one of these five categories. For this we will first have a look at the BBC news articles dataset and clean it. In a subsequent step we will train and test our model on this same dataset. Finally the model will be used to classify the quotes of the quotebank dataset. "
   ]
  },
  {
   "cell_type": "code",
   "execution_count": 3,
   "metadata": {},
   "outputs": [],
   "source": [
    "#importing the train set\n",
    "train = './BBC_data/BBC News Train.csv'\n",
    "train_data = pd.read_csv(train)"
   ]
  },
  {
   "cell_type": "code",
   "execution_count": 4,
   "metadata": {},
   "outputs": [
    {
     "data": {
      "text/html": [
       "<div>\n",
       "<style scoped>\n",
       "    .dataframe tbody tr th:only-of-type {\n",
       "        vertical-align: middle;\n",
       "    }\n",
       "\n",
       "    .dataframe tbody tr th {\n",
       "        vertical-align: top;\n",
       "    }\n",
       "\n",
       "    .dataframe thead th {\n",
       "        text-align: right;\n",
       "    }\n",
       "</style>\n",
       "<table border=\"1\" class=\"dataframe\">\n",
       "  <thead>\n",
       "    <tr style=\"text-align: right;\">\n",
       "      <th></th>\n",
       "      <th>ArticleId</th>\n",
       "      <th>Text</th>\n",
       "      <th>Category</th>\n",
       "    </tr>\n",
       "  </thead>\n",
       "  <tbody>\n",
       "    <tr>\n",
       "      <th>0</th>\n",
       "      <td>1833</td>\n",
       "      <td>worldcom ex-boss launches defence lawyers defe...</td>\n",
       "      <td>business</td>\n",
       "    </tr>\n",
       "    <tr>\n",
       "      <th>1</th>\n",
       "      <td>154</td>\n",
       "      <td>german business confidence slides german busin...</td>\n",
       "      <td>business</td>\n",
       "    </tr>\n",
       "  </tbody>\n",
       "</table>\n",
       "</div>"
      ],
      "text/plain": [
       "   ArticleId                                               Text  Category\n",
       "0       1833  worldcom ex-boss launches defence lawyers defe...  business\n",
       "1        154  german business confidence slides german busin...  business"
      ]
     },
     "execution_count": 4,
     "metadata": {},
     "output_type": "execute_result"
    }
   ],
   "source": [
    "train_data.head(2)"
   ]
  },
  {
   "cell_type": "markdown",
   "metadata": {},
   "source": [
    "##### Let's look at the content\n",
    "Here we will explore the content of the train data set: we will look at the present categories, the number of datapoints and we will check for missing values. "
   ]
  },
  {
   "cell_type": "code",
   "execution_count": 5,
   "metadata": {},
   "outputs": [
    {
     "data": {
      "text/plain": [
       "array(['business', 'tech', 'politics', 'sport', 'entertainment'],\n",
       "      dtype=object)"
      ]
     },
     "execution_count": 5,
     "metadata": {},
     "output_type": "execute_result"
    }
   ],
   "source": [
    "#We have five distinct categories: business, tech, politics, sports, and entertainement \n",
    "train_data['Category'].unique()"
   ]
  },
  {
   "cell_type": "code",
   "execution_count": 6,
   "metadata": {},
   "outputs": [
    {
     "data": {
      "text/plain": [
       "(1490, 3)"
      ]
     },
     "execution_count": 6,
     "metadata": {},
     "output_type": "execute_result"
    }
   ],
   "source": [
    "#how many data points do we have ?\n",
    "#we have 1490 data points and three columns: Article id, Text and the category that the article belongs to\n",
    "train_data.shape"
   ]
  },
  {
   "cell_type": "code",
   "execution_count": 7,
   "metadata": {},
   "outputs": [
    {
     "data": {
      "text/plain": [
       "ArticleId    False\n",
       "Text         False\n",
       "Category     False\n",
       "dtype: bool"
      ]
     },
     "execution_count": 7,
     "metadata": {},
     "output_type": "execute_result"
    }
   ],
   "source": [
    "#Now we check if there are missing values\n",
    "train_data.isnull().any()"
   ]
  },
  {
   "cell_type": "code",
   "execution_count": 8,
   "metadata": {},
   "outputs": [
    {
     "data": {
      "image/png": "[encoded data removed]",
      "text/plain": [
       "<Figure size 432x288 with 1 Axes>"
      ]
     },
     "metadata": {},
     "output_type": "display_data"
    }
   ],
   "source": [
    "#Here we see how the data is balanced. We don't have a clear oversampling. \n",
    "sns.set_theme(style=\"darkgrid\")\n",
    "sns.set_palette(\"colorblind\")\n",
    "ax = sns.countplot(x=\"Category\", data=train_data).set_title('Occurrence of categories', fontsize=15)"
   ]
  },
  {
   "cell_type": "markdown",
   "metadata": {},
   "source": [
    "##### Dealing with word length\n",
    "We know that this dataset contains news artices. Howvere, the quotebank dataset that we wish to classify contains quotes. The differene between the two is that news articles most likely are much longer than quotes. This means that we will probably have to truncate the news articles to match the average length of the quotes"
   ]
  },
  {
   "cell_type": "code",
   "execution_count": 9,
   "metadata": {},
   "outputs": [
    {
     "data": {
      "text/plain": [
       "0       1866\n",
       "1       2016\n",
       "2       3104\n",
       "3       3618\n",
       "4       2190\n",
       "        ... \n",
       "1485    1266\n",
       "1486    3111\n",
       "1487    1370\n",
       "1488    3242\n",
       "1489    1723\n",
       "Name: Text, Length: 1490, dtype: int64"
      ]
     },
     "execution_count": 9,
     "metadata": {},
     "output_type": "execute_result"
    }
   ],
   "source": [
    "#Let's look at the lentgh of the articles\n",
    "train_data['Text'].str.len()"
   ]
  },
  {
   "cell_type": "code",
   "execution_count": 10,
   "metadata": {},
   "outputs": [
    {
     "data": {
      "text/plain": [
       "0       1866\n",
       "1       2016\n",
       "2       3104\n",
       "3       3618\n",
       "4       2190\n",
       "        ... \n",
       "1485    1266\n",
       "1486    3111\n",
       "1487    1370\n",
       "1488    3242\n",
       "1489    1723\n",
       "Name: len_of_article, Length: 1490, dtype: int64"
      ]
     },
     "execution_count": 10,
     "metadata": {},
     "output_type": "execute_result"
    }
   ],
   "source": [
    "#we add a column to our train data set that contains the length of the quotes\n",
    "train_data['len_of_article'] = train_data['Text'].str.len()\n",
    "train_data['len_of_article']"
   ]
  },
  {
   "cell_type": "code",
   "execution_count": 11,
   "metadata": {},
   "outputs": [
    {
     "data": {
      "image/png": "[encoded data removed]",
      "text/plain": [
       "<Figure size 360x360 with 1 Axes>"
      ]
     },
     "metadata": {},
     "output_type": "display_data"
    }
   ],
   "source": [
    "sns.set_theme(style=\"darkgrid\")\n",
    "sns.set_palette(\"colorblind\")\n",
    "sns.displot(data=train_data, x=\"len_of_article\")\n",
    "plt.title('Distribution lenght article', fontsize=15)\n",
    "plt.show()"
   ]
  },
  {
   "cell_type": "code",
   "execution_count": 12,
   "metadata": {},
   "outputs": [
    {
     "data": {
      "text/plain": [
       "count     1490.000000\n",
       "mean      2233.461745\n",
       "std       1205.153358\n",
       "min        501.000000\n",
       "25%       1453.000000\n",
       "50%       1961.000000\n",
       "75%       2751.250000\n",
       "max      18387.000000\n",
       "Name: len_of_article, dtype: float64"
      ]
     },
     "execution_count": 12,
     "metadata": {},
     "output_type": "execute_result"
    }
   ],
   "source": [
    "#let's print some summary statistics \n",
    "train_data['len_of_article'].describe()"
   ]
  },
  {
   "cell_type": "code",
   "execution_count": 13,
   "metadata": {},
   "outputs": [
    {
     "data": {
      "text/plain": [
       "1961.0"
      ]
     },
     "execution_count": 13,
     "metadata": {},
     "output_type": "execute_result"
    }
   ],
   "source": [
    "#and the median\n",
    "train_data['len_of_article'].median()"
   ]
  },
  {
   "cell_type": "markdown",
   "metadata": {},
   "source": [
    "We can see in the notebook where we explored the Quotebank dataset, that these values are much higher than for the quotes we will ultimately classify. Therefore, it might be useful to truncate these articles before training our model on it. We will truncate these articles at 200 characters.\n"
   ]
  },
  {
   "cell_type": "code",
   "execution_count": 14,
   "metadata": {},
   "outputs": [],
   "source": [
    "train_data['truncated']=train_data['Text'].str.slice(stop=200)\n",
    "train_data['len_of_truncated_article'] = train_data['truncated'].str.len()\n"
   ]
  },
  {
   "cell_type": "code",
   "execution_count": 15,
   "metadata": {},
   "outputs": [
    {
     "data": {
      "text/html": [
       "<div>\n",
       "<style scoped>\n",
       "    .dataframe tbody tr th:only-of-type {\n",
       "        vertical-align: middle;\n",
       "    }\n",
       "\n",
       "    .dataframe tbody tr th {\n",
       "        vertical-align: top;\n",
       "    }\n",
       "\n",
       "    .dataframe thead th {\n",
       "        text-align: right;\n",
       "    }\n",
       "</style>\n",
       "<table border=\"1\" class=\"dataframe\">\n",
       "  <thead>\n",
       "    <tr style=\"text-align: right;\">\n",
       "      <th></th>\n",
       "      <th>ArticleId</th>\n",
       "      <th>Text</th>\n",
       "      <th>Category</th>\n",
       "      <th>len_of_article</th>\n",
       "      <th>truncated</th>\n",
       "      <th>len_of_truncated_article</th>\n",
       "    </tr>\n",
       "  </thead>\n",
       "  <tbody>\n",
       "    <tr>\n",
       "      <th>0</th>\n",
       "      <td>1833</td>\n",
       "      <td>worldcom ex-boss launches defence lawyers defe...</td>\n",
       "      <td>business</td>\n",
       "      <td>1866</td>\n",
       "      <td>worldcom ex-boss launches defence lawyers defe...</td>\n",
       "      <td>200</td>\n",
       "    </tr>\n",
       "    <tr>\n",
       "      <th>1</th>\n",
       "      <td>154</td>\n",
       "      <td>german business confidence slides german busin...</td>\n",
       "      <td>business</td>\n",
       "      <td>2016</td>\n",
       "      <td>german business confidence slides german busin...</td>\n",
       "      <td>200</td>\n",
       "    </tr>\n",
       "  </tbody>\n",
       "</table>\n",
       "</div>"
      ],
      "text/plain": [
       "   ArticleId                                               Text  Category  \\\n",
       "0       1833  worldcom ex-boss launches defence lawyers defe...  business   \n",
       "1        154  german business confidence slides german busin...  business   \n",
       "\n",
       "   len_of_article                                          truncated  \\\n",
       "0            1866  worldcom ex-boss launches defence lawyers defe...   \n",
       "1            2016  german business confidence slides german busin...   \n",
       "\n",
       "   len_of_truncated_article  \n",
       "0                       200  \n",
       "1                       200  "
      ]
     },
     "execution_count": 15,
     "metadata": {},
     "output_type": "execute_result"
    }
   ],
   "source": [
    "train_data.head(2)"
   ]
  },
  {
   "cell_type": "markdown",
   "metadata": {},
   "source": [
    "##### Cleaning the data\n",
    "Here we will do any cleaning of the data. We will remove unecessary characters and stopwords. We will only apply this cleaning to the truncated articles"
   ]
  },
  {
   "cell_type": "code",
   "execution_count": 16,
   "metadata": {},
   "outputs": [],
   "source": [
    "train_data['clean_truncated'] = train_data['truncated'].apply(process_text)"
   ]
  },
  {
   "cell_type": "code",
   "execution_count": 17,
   "metadata": {},
   "outputs": [
    {
     "data": {
      "text/html": [
       "<div>\n",
       "<style scoped>\n",
       "    .dataframe tbody tr th:only-of-type {\n",
       "        vertical-align: middle;\n",
       "    }\n",
       "\n",
       "    .dataframe tbody tr th {\n",
       "        vertical-align: top;\n",
       "    }\n",
       "\n",
       "    .dataframe thead th {\n",
       "        text-align: right;\n",
       "    }\n",
       "</style>\n",
       "<table border=\"1\" class=\"dataframe\">\n",
       "  <thead>\n",
       "    <tr style=\"text-align: right;\">\n",
       "      <th></th>\n",
       "      <th>ArticleId</th>\n",
       "      <th>Text</th>\n",
       "      <th>Category</th>\n",
       "      <th>len_of_article</th>\n",
       "      <th>truncated</th>\n",
       "      <th>len_of_truncated_article</th>\n",
       "      <th>clean_truncated</th>\n",
       "    </tr>\n",
       "  </thead>\n",
       "  <tbody>\n",
       "    <tr>\n",
       "      <th>0</th>\n",
       "      <td>1833</td>\n",
       "      <td>worldcom ex-boss launches defence lawyers defe...</td>\n",
       "      <td>business</td>\n",
       "      <td>1866</td>\n",
       "      <td>worldcom ex-boss launches defence lawyers defe...</td>\n",
       "      <td>200</td>\n",
       "      <td>worldcom exboss launches defence lawyers defen...</td>\n",
       "    </tr>\n",
       "    <tr>\n",
       "      <th>1</th>\n",
       "      <td>154</td>\n",
       "      <td>german business confidence slides german busin...</td>\n",
       "      <td>business</td>\n",
       "      <td>2016</td>\n",
       "      <td>german business confidence slides german busin...</td>\n",
       "      <td>200</td>\n",
       "      <td>german business confidence slides german busin...</td>\n",
       "    </tr>\n",
       "  </tbody>\n",
       "</table>\n",
       "</div>"
      ],
      "text/plain": [
       "   ArticleId                                               Text  Category  \\\n",
       "0       1833  worldcom ex-boss launches defence lawyers defe...  business   \n",
       "1        154  german business confidence slides german busin...  business   \n",
       "\n",
       "   len_of_article                                          truncated  \\\n",
       "0            1866  worldcom ex-boss launches defence lawyers defe...   \n",
       "1            2016  german business confidence slides german busin...   \n",
       "\n",
       "   len_of_truncated_article                                    clean_truncated  \n",
       "0                       200  worldcom exboss launches defence lawyers defen...  \n",
       "1                       200  german business confidence slides german busin...  "
      ]
     },
     "execution_count": 17,
     "metadata": {},
     "output_type": "execute_result"
    }
   ],
   "source": [
    "train_data.head(2)"
   ]
  },
  {
   "cell_type": "code",
   "execution_count": 18,
   "metadata": {},
   "outputs": [],
   "source": [
    "train_data.to_csv('./BBC_data/cleaned_Train.csv')"
   ]
  },
  {
   "cell_type": "markdown",
   "metadata": {},
   "source": [
    "##### Preprocess the test set\n",
    "The only thing we will do on the test set is to preprocess it in the same way as we did for the train dataset. That is, check for Nan values, truncate the articles and process the text in order to drop the useless charaters and words. "
   ]
  },
  {
   "cell_type": "code",
   "execution_count": 19,
   "metadata": {},
   "outputs": [],
   "source": [
    "#importing the test set\n",
    "test = './BBC_data/BBC News Test.csv'\n",
    "test_data = pd.read_csv(test)"
   ]
  },
  {
   "cell_type": "code",
   "execution_count": 20,
   "metadata": {},
   "outputs": [
    {
     "data": {
      "text/html": [
       "<div>\n",
       "<style scoped>\n",
       "    .dataframe tbody tr th:only-of-type {\n",
       "        vertical-align: middle;\n",
       "    }\n",
       "\n",
       "    .dataframe tbody tr th {\n",
       "        vertical-align: top;\n",
       "    }\n",
       "\n",
       "    .dataframe thead th {\n",
       "        text-align: right;\n",
       "    }\n",
       "</style>\n",
       "<table border=\"1\" class=\"dataframe\">\n",
       "  <thead>\n",
       "    <tr style=\"text-align: right;\">\n",
       "      <th></th>\n",
       "      <th>ArticleId</th>\n",
       "      <th>Text</th>\n",
       "      <th>truncated</th>\n",
       "      <th>len_of_truncated_article</th>\n",
       "    </tr>\n",
       "  </thead>\n",
       "  <tbody>\n",
       "    <tr>\n",
       "      <th>0</th>\n",
       "      <td>1018</td>\n",
       "      <td>qpr keeper day heads for preston queens park r...</td>\n",
       "      <td>qpr keeper day heads for preston queens park r...</td>\n",
       "      <td>200</td>\n",
       "    </tr>\n",
       "    <tr>\n",
       "      <th>1</th>\n",
       "      <td>1319</td>\n",
       "      <td>software watching while you work software that...</td>\n",
       "      <td>software watching while you work software that...</td>\n",
       "      <td>200</td>\n",
       "    </tr>\n",
       "  </tbody>\n",
       "</table>\n",
       "</div>"
      ],
      "text/plain": [
       "   ArticleId                                               Text  \\\n",
       "0       1018  qpr keeper day heads for preston queens park r...   \n",
       "1       1319  software watching while you work software that...   \n",
       "\n",
       "                                           truncated  len_of_truncated_article  \n",
       "0  qpr keeper day heads for preston queens park r...                       200  \n",
       "1  software watching while you work software that...                       200  "
      ]
     },
     "execution_count": 20,
     "metadata": {},
     "output_type": "execute_result"
    }
   ],
   "source": [
    "test_data['truncated']=test_data['Text'].str.slice(stop=200)\n",
    "test_data['len_of_truncated_article'] = test_data['truncated'].str.len()\n",
    "test_data.head(2)"
   ]
  },
  {
   "cell_type": "code",
   "execution_count": 21,
   "metadata": {},
   "outputs": [],
   "source": [
    "test_data['clean_truncated'] = test_data['truncated'].apply(process_text)"
   ]
  },
  {
   "cell_type": "code",
   "execution_count": 22,
   "metadata": {},
   "outputs": [],
   "source": [
    "test_data.to_csv('./BBC_data/cleaned_Test.csv')"
   ]
  },
  {
   "cell_type": "markdown",
   "metadata": {},
   "source": [
    "##### Next steps\n",
    "Next we will have to apply the same data cleaning and truncation to the Quotebank dataset. \n",
    "In a next step we will also try different machine learning models such as random forest, logistic regression, k neighbors classifier and naive bayes classifier. We will assess their quality by applying them on the test set and then we will chose the best and apply it to the quotebank dataset."
   ]
  },
  {
   "cell_type": "markdown",
   "metadata": {},
   "source": [
    "## Future work "
   ]
  },
  {
   "cell_type": "markdown",
   "metadata": {},
   "source": [
    "### 1. Train our machine learning method to categorize quotations\n",
    "\n",
    "We have now all the information we need to execute our project in our three datasets : \n",
    "The BBC dataset is ready to be used to find a machine learning method (random forest, logistic regression, k neighbors classifier or naive bayes classifier) that gives the best performance to categories our news quotes into categories. Each method is described below :"
   ]
  },
  {
   "cell_type": "markdown",
   "metadata": {},
   "source": [
    "\n",
    "##### Logistic regression\n",
    "In this technique, instead of modeling the response directly, we model the probability that the output falls under a certain category. Based on this probability, we then assign each element to a category. \n",
    "\n",
    "$\\begin{split}\n",
    "P(t=1| z) & = \\sigma(z) = \\frac{1}{1+e^{-z}} \\\\\n",
    "P(t=0| z) & = 1 - \\sigma(z) = \\frac{e^{-z}}{1+e^{-z}} \n",
    "\\end{split}$\n",
    "\n",
    "where $z = \\sum_{i=0}^{p}\\beta_i x_i$ and $x_i$ are the predictors and the $\\beta_i$ are the parameters to be estimated.\n",
    "\n",
    "Even though the logistic regression technique is usually used for binary classification, we can adapt it to multiclass classification. We will make use of the <a href=\"https://scikit-learn.org/stable/modules/generated/sklearn.linear_model.LogisticRegression.html\">sklearn method</a> for logistic regression. In this method, we can use the one-vs-rest method to overcome the fact that we have multiple classes. This splits a multi-class classification into one binary classification problem per class. \n",
    "\n",
    "The loss function used for this method is the maximum likelihood estimator. This allows us to find the parameters $\\beta_i$:\n",
    "\n",
    "$\\underset{\\theta}{\\text{argmax}}\\; \\mathcal{L}(\\theta|t,z) = \\underset{\\theta}{\\text{argmax}} \\prod_{i=1}^{n} \\mathcal{L}(\\theta|t_i,z_i)$. where $\\mathcal{L}(\\theta|t,z) = P(t|z,\\theta) = \\prod_{i=1}^{n} P(t_i|z_i,\\theta)$\n",
    "\n",
    "\n",
    "##### Random forest\n",
    "The idea behind random forest is to train a series of decision trees with the possibility to bootstrap the dataset. Another feature of random forest is that at each split in each decision tree, the model is only allowed to use part of the predictors. This allows to decorrelate the different trees that are built. When using the random forest to classify data points, we look at the class that is predicted by most decision trees.\n",
    "\n",
    "We will again use the <a href=\"https://scikit-learn.org/stable/modules/generated/sklearn.ensemble.RandomForestClassifier.html\"> random forest method</a> sklearn. "
   ]
  },
  {
   "cell_type": "markdown",
   "metadata": {},
   "source": [
    "##### Naive bayes classifier\n",
    "\n",
    "This is a classification algorithm based on Bayes’ Theorem with an assumption of independence between the features.\n",
    "\n",
    "Naive Bayes is a conditional probability model: given a problem instance to be classified, represented by a vector $x = (x_1,…,x_n)$ representing some $n$ features (independent variables), it assigns to this input probabilities\n",
    "$p(C_k|x_1,...,x_n)$ for each of $K$ possible classes $C_k$.\n",
    "\n",
    "Using Bayes' theorem, we can write the conditional probability as $p(C_k|x)=\\frac{p(C_k)p(x|C_k)}{p(x)}$.\n",
    "\n",
    "Since the denominator is constant given the input and the numerator is equivalent to the joint probability model $p(C_k,x_1,...,x_n)$, we can rewrite it using the chain rule: $p(C_k,x_1,...,x_n)=p(x_1|x_2,...,x_n,C_k)p(x_2|x_3,...,x_n,C_k)...p(x_{n-1}|x_n, C_k)p(x_n|C_k)p(C_k)$.\n",
    "\n",
    "Under the assumption of conditional independence between every pair of features, we can state that $p(x_i|x_{i+1},...,x_n,C_k)=p(x_i|C_k)$.\n",
    "\n",
    "So, the joint model can be written as $p(C_k|x_1,...,x_n)\\propto p(C_k)\\prod_{i=1}^{n}p(x_i|C_k)$, where $\\propto$ denotes proportionality.\n",
    "\n",
    "Now we should combine derived Bayes probability model with a decision rule and can use Maximum A Posteriori (MAP) estimation as a decision rule to pick the most probable hypothesis.\n",
    "\n",
    "The corresponding classifier, a Bayes classifier, is the function that assigns a class label $y=C_k$ for some $k$ as follows:\n",
    "$y=\\underset{k\\in{1,...,K}}{\\text{argmax}}p(C_k)\\prod_{i=1}^{n}p(x_i|C_k)$.\n",
    "\n",
    "The description of this machine learning model and formulas were taken from <a href=\"https://en.wikipedia.org/wiki/Naive_Bayes_classifier\">Wikipedia</a>.\n",
    "\n",
    "To implement this technique, we will use <a href=\"https://scikit-learn.org/stable/modules/generated/sklearn.naive_bayes.MultinomialNB.html#sklearn.naive_bayes.MultinomialNB\">sklearn method</a> for naive bayes classifier."
   ]
  },
  {
   "cell_type": "markdown",
   "metadata": {},
   "source": [
    "##### k-nearest neighbors classifier \n",
    "This is a non-parametric classification method. The input to the algorithm consists of the $k$ closest training points in a data set. In $k$-NN classification, the output is a class membership, which defined by a plurality vote of its neighbors, with the object being assigned to the class most common among its $k$ nearest neighbors.\n",
    "\n",
    "The description of this machine learning model was taken from <a href=\"https://en.wikipedia.org/wiki/K-nearest_neighbors_algorithm\">Wikipedia</a>.\n",
    "\n",
    "To implement this technique, we will use <a href=\"https://scikit-learn.org/stable/modules/generated/sklearn.neighbors.KNeighborsClassifier.html\">sklearn method</a> for $k$-NN classifier.\n",
    "\n",
    "To perform $k$-NN for text classification, we should find the closest data points for a given one and have a measure of distance. For this purpose we could use Jaccard similarity metric or cosine metric.\n",
    "\n",
    "<a href=\"https://en.wikipedia.org/wiki/Jaccard_index#Probability_Jaccard_similarity_and_distance\">Jaccard similarity metric</a>, which measures similarity between finite sample sets $A$ and $B$, is defined as the size of the intersection divided by the size of the union of the sample sets: $J(A,B)=\\frac{|A \\cap B|}{|A \\cup B|}$.\n",
    "\n",
    "<a href=\"https://en.wikipedia.org/wiki/Cosine_similarity\">Cosine similarity metric</a> is a measure of similarity between two non-zero vectors of an inner product space. It is defined to equal the cosine of the angle between them. For two vectors $A$ and $B$ the cosine similarity can be written as $S_c(A,B)=cos(\\theta)=\\frac{A\\cdot B}{\\|A\\|\\cdot \\|B\\|}$.\n",
    "\n"
   ]
  },
  {
   "cell_type": "markdown",
   "metadata": {},
   "source": [
    "### 2. Regrouping of the quotes into groups of topics \n",
    "\n",
    "Once this method is assessed on the test set, it will be applied on the cleaned Quotebank dataset. We will then obtain five different categories (Business, Entertainment, Sports, Tech, and Politics) containing numerous number of quotations, for each year from 2015 to 2020 across different news sources. With this work, we will be able for exemple to plot the evolution of the number of quotes for the different subjects over the years. We can also compare this result across news sources."
   ]
  },
  {
   "cell_type": "markdown",
   "metadata": {},
   "source": [
    "### 3. Categorization of speakers \n",
    "\n",
    "Then, we will find the gender, nationality and age of each speaker using the cleaned Wikidataset. The corresponding speaker will be linked to the Wikidataset according to its Id number. Those informations will allow us to perform multiple analysis and visualizations in order to highlight the most represented type of speaker in the different news sources from 2015 to 2020. We could then visualize the evolution of the most represented gender in the press, the variation of the mean age of the speakers or even the possible overrepresentation or underrepresentation of a certain nationality."
   ]
  },
  {
   "cell_type": "markdown",
   "metadata": {
    "tags": []
   },
   "source": [
    "### 4. Aim for final conclusion \n",
    "\n",
    "Those different analysis will be done in order to asses if we can find a significant overall evolution of different types of speakers quoted the last 6 years in the worldwide press."
   ]
  }
 ],
 "metadata": {
  "kernelspec": {
   "display_name": "Python 3",
   "language": "python",
   "name": "python3"
  },
  "language_info": {
   "codemirror_mode": {
    "name": "ipython",
    "version": 3
   },
   "file_extension": ".py",
   "mimetype": "text/x-python",
   "name": "python",
   "nbconvert_exporter": "python",
   "pygments_lexer": "ipython3",
   "version": "3.8.5"
  }
 },
 "nbformat": 4,
 "nbformat_minor": 5
}
